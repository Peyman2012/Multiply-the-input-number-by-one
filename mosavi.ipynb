{
 "cells": [
  {
   "cell_type": "code",
   "execution_count": 18,
   "metadata": {},
   "outputs": [
    {
     "name": "stdout",
     "output_type": "stream",
     "text": [
      "Enter x:10\n",
      "Enter y:10\n",
      "10 * 10 = 100\n",
      "Enter x:0\n",
      "Enter y:0\n"
     ]
    }
   ],
   "source": [
    "while True:\n",
    "    x=int(input(\"Enter x:\"))\n",
    "    y=int(input(\"Enter y:\"))\n",
    "    sum=0\n",
    "    if x==0 and y==0 :\n",
    "        break\n",
    "    temp=y\n",
    "    if y<0:\n",
    "        temp=-y\n",
    "    for i in range(1,temp+1):\n",
    "        sum=sum+x\n",
    "    if y<0:\n",
    "        sum=-sum\n",
    "    print(x,\"*\",y,\"=\",sum)"
   ]
  },
  {
   "cell_type": "code",
   "execution_count": null,
   "metadata": {},
   "outputs": [],
   "source": []
  }
 ],
 "metadata": {
  "kernelspec": {
   "display_name": "Python 3",
   "language": "python",
   "name": "python3"
  },
  "language_info": {
   "codemirror_mode": {
    "name": "ipython",
    "version": 3
   },
   "file_extension": ".py",
   "mimetype": "text/x-python",
   "name": "python",
   "nbconvert_exporter": "python",
   "pygments_lexer": "ipython3",
   "version": "3.6.13"
  }
 },
 "nbformat": 4,
 "nbformat_minor": 2
}
